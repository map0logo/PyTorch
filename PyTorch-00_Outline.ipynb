{
 "cells": [
  {
   "cell_type": "markdown",
   "metadata": {},
   "source": [
    "![Erudio logo](img/erudio-logo-small.png)\n",
    "---\n",
    "![Pytorch logo](img/pytorch-logo-small.png)"
   ]
  },
  {
   "cell_type": "markdown",
   "metadata": {},
   "source": [
    "# Machine Learning with PyTorch"
   ]
  },
  {
   "cell_type": "markdown",
   "metadata": {},
   "source": [
    "## Resources\n",
    "\n",
    "---\n",
    "\n",
    "This training material is available under a [CC BY-NC-ND 4.0](https://creativecommons.org/licenses/by-nc-nd/4.0/) license. You can find it at GitHub [Erudio/PyTorch](https://github.com/ErudioOne/PyTorch).\n",
    "\n",
    "Before attending this course, please configure the environments you will need. Within the repository, find the file requirements.txt to install software using pip, or the file environment.yml to install software using conda.\n",
    "\n",
    "Please contact, [Erudio](http://erudio.one) for hands-on, instructor-led, onsite or remote, training. Our email is hi@erudio.one.\n",
    "\n",
    "\n",
    "### Installing training materials\n",
    "\n",
    "Before attending this course, please configure the environments you will need.  Within the repository, find the file `requirements.txt` to install software using `pip`, or the file `environment.yml` to install software using `conda`.  I.e.:\n",
    "\n",
    "```bash\n",
    "$ conda env create -f environment.yml\n",
    "$ conda activate erudio.pytorch\n",
    "(Pearson-PyTorch) $ jupyter notebook PyTorch-00_Outline.ipynb\n",
    "```\n",
    "\n",
    "Or\n",
    "\n",
    "```bash\n",
    "$ pip install -r requirements.txt\n",
    "$ juypter notebook PyTorch-00_Outline.ipynb\n",
    "```"
   ]
  },
  {
   "cell_type": "markdown",
   "metadata": {},
   "source": [
    "# Beginning Material"
   ]
  },
  {
   "cell_type": "code",
   "execution_count": 1,
   "metadata": {},
   "outputs": [],
   "source": [
    "from torch import cuda\n",
    "\n",
    "if cuda.is_available():\n",
    "    print(cuda.get_device_capability())\n",
    "    print(cuda.get_device_name())"
   ]
  },
  {
   "cell_type": "markdown",
   "metadata": {},
   "source": [
    "## What is Machine Learning? What is Deep Learning? \n",
    "\n",
    "* Understand the difference between \"deep learning\" and other ML techniques\n",
    "* Describe the techniques used in machine learning\n",
    "* Understand classification versus regression versus clustering\n",
    "* Perform dimensionality reduction\n",
    "* Explain feature engineering\n",
    "* Utilize feature selection\n",
    "* Distinguish categorical versus ordinal versus continuous variables\n",
    "* Perform one-hot encoding\n",
    "* Types of network layers\n",
    "\n",
    "<div><a href=\"PyTorch-01a_WhatIsML.ipynb\"><img src=\"img/open-notebook.png\" align=\"left\"/></a></div>"
   ]
  },
  {
   "cell_type": "markdown",
   "metadata": {},
   "source": [
    "## Comparing Several Libraries\n",
    "\n",
    "A quick look at performing the same task in:\n",
    "\n",
    "* scikit-learn\n",
    "* Keras (with TensorFlow)\n",
    "* PyTorch.\n",
    "\n",
    "<div><a href=\"PyTorch-01b_LibComparison.ipynb\"><img src=\"img/open-notebook.png\" align=\"left\"/></a></div>"
   ]
  },
  {
   "cell_type": "markdown",
   "metadata": {},
   "source": [
    "## Understanding PyTorch\n",
    "\n",
    "* Tensors and NumPy interfaces\n",
    "* Autograd\n",
    "* Using GPUs with `torch.cuda`\n",
    "* Parallelizing on clusters with `torch.distributed`\n",
    "* Create a neural network with `torch.nn`\n",
    "\n",
    "<div><a href=\"PyTorch-02_IntroPyTorch.ipynb\"><img src=\"img/open-notebook.png\" align=\"left\"/></a></div>"
   ]
  },
  {
   "cell_type": "markdown",
   "metadata": {},
   "source": [
    "## Tasks with Networks\n",
    "\n",
    "&nbsp;• A simple feature classifier \n",
    "<a href=\"PyTorch-03a_NetworkExamples.ipynb\"><img src=\"img/open-notebook.png\" align=\"left\"/></a>\n",
    "    \n",
    "&nbsp;• An image classifier\n",
    "<a href=\"PyTorch-03b_NetworkExamples.ipynb\"><img src=\"img/open-notebook.png\" align=\"left\"/></a>\n",
    "    \n",
    "&nbsp;• A regression prediction\n",
    "<a href=\"PyTorch-03c_NetworkExamples.ipynb\"><img src=\"img/open-notebook.png\" align=\"left\"/></a>\n",
    "\n",
    "&nbsp;• Clustering with PyTorch\n",
    "<a href=\"PyTorch-03d_NetworkExamples.ipynb\"><img src=\"img/open-notebook.png\" align=\"left\"/></a>\n",
    "\n",
    "&nbsp;•  Generative Adversarial Networks (GAN)\n",
    "<a href=\"PyTorch-03e_NetworkExamples.ipynb\"><img src=\"img/open-notebook.png\" align=\"left\"/></a>\n",
    "\n",
    "&nbsp;•  Part of Speech Tagger\n",
    "<a href=\"PyTorch-03f_NetworkExamples.ipynb\"><img src=\"img/open-notebook.png\" align=\"left\"/></a>"
   ]
  },
  {
   "cell_type": "markdown",
   "metadata": {},
   "source": [
    "## Enhancing an Image Classifier \n",
    "\n",
    "* Starting with `torchvision.models`\n",
    "* Retraining pretrained models\n",
    "* Modifying Network Layers\n",
    "* Understanding Effects of Network Structure\n",
    "\n",
    "<div><a href=\"PyTorch-04_ImageClassifier.ipynb\"><img src=\"img/open-notebook.png\" align=\"left\"/></a></div>"
   ]
  },
  {
   "cell_type": "markdown",
   "metadata": {},
   "source": [
    "## Natural Language Processing with flair?\n",
    "\n",
    ":::{attention}\n",
    "The AllenNLP library is now in maintenance mode. That means we are no longer adding new features or upgrading dependencies. We will still respond to questions and address bugs as they arise up until December 16th, 2022. If you have any concerns or are interested in maintaining AllenNLP going forward, please open an issue on this repository.\n",
    ":::\n",
    "\n",
    "> If you like the framework aspect of AllenNLP, check out [flair](https://github.com/flairNLP/flair). It has multiple state-of-art NLP models and allows you to easily use pretrained embeddings such as those from transformers.\n",
    "\n",
    "\n",
    "TODO: Translate AllenNLP lessons to flair."
   ]
  },
  {
   "cell_type": "markdown",
   "metadata": {},
   "source": [
    "\n",
    "---\n",
    "\n",
    "Materials licensed under [CC BY-NC-ND 4.0](https://creativecommons.org/licenses/by-nc-nd/4.0/) by the authors"
   ]
  }
 ],
 "metadata": {
  "kernelspec": {
   "display_name": "Python 3",
   "language": "python",
   "name": "python3"
  },
  "language_info": {
   "codemirror_mode": {
    "name": "ipython",
    "version": 3
   },
   "file_extension": ".py",
   "mimetype": "text/x-python",
   "name": "python",
   "nbconvert_exporter": "python",
   "pygments_lexer": "ipython3",
   "version": "3.11.8"
  }
 },
 "nbformat": 4,
 "nbformat_minor": 4
}
